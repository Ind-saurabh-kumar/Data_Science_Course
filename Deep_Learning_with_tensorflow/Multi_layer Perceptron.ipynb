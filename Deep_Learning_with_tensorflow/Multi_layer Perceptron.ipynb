{
 "cells": [
  {
   "cell_type": "markdown",
   "metadata": {},
   "source": [
    "# **Mulit-layer Perceptron**"
   ]
  },
  {
   "cell_type": "code",
   "execution_count": 1,
   "metadata": {},
   "outputs": [
    {
     "name": "stdout",
     "output_type": "stream",
     "text": [
      "WARNING:tensorflow:From c:\\Users\\Saurabh Kumar\\miniconda3\\envs\\tf_env\\Lib\\site-packages\\keras\\src\\losses.py:2976: The name tf.losses.sparse_softmax_cross_entropy is deprecated. Please use tf.compat.v1.losses.sparse_softmax_cross_entropy instead.\n",
      "\n"
     ]
    }
   ],
   "source": [
    "import tensorflow as tf\n",
    "from sklearn.model_selection import train_test_split\n",
    "from sklearn.preprocessing import StandardScaler \n",
    "import pandas as pd\n",
    "import seaborn as sns"
   ]
  },
  {
   "cell_type": "code",
   "execution_count": 68,
   "metadata": {},
   "outputs": [
    {
     "name": "stdout",
     "output_type": "stream",
     "text": [
      "Epoch 1/100\n",
      "7/7 [==============================] - 2s 3ms/step - loss: 11.2382 - mae: 2.9955\n",
      "Epoch 2/100\n",
      "7/7 [==============================] - 0s 4ms/step - loss: 9.0790 - mae: 2.6385\n",
      "Epoch 3/100\n",
      "7/7 [==============================] - 0s 4ms/step - loss: 7.2335 - mae: 2.2881\n",
      "Epoch 4/100\n",
      "7/7 [==============================] - 0s 4ms/step - loss: 5.6457 - mae: 1.9614\n",
      "Epoch 5/100\n",
      "7/7 [==============================] - 0s 4ms/step - loss: 4.3546 - mae: 1.6524\n",
      "Epoch 6/100\n",
      "7/7 [==============================] - 0s 5ms/step - loss: 3.2508 - mae: 1.3681\n",
      "Epoch 7/100\n",
      "7/7 [==============================] - 0s 4ms/step - loss: 2.3933 - mae: 1.1328\n",
      "Epoch 8/100\n",
      "7/7 [==============================] - 0s 4ms/step - loss: 1.9264 - mae: 1.0004\n",
      "Epoch 9/100\n",
      "7/7 [==============================] - 0s 4ms/step - loss: 1.6496 - mae: 0.9387\n",
      "Epoch 10/100\n",
      "7/7 [==============================] - 0s 4ms/step - loss: 1.5287 - mae: 0.9209\n",
      "Epoch 11/100\n",
      "7/7 [==============================] - 0s 8ms/step - loss: 1.4200 - mae: 0.8991\n",
      "Epoch 12/100\n",
      "7/7 [==============================] - 0s 5ms/step - loss: 1.3334 - mae: 0.8728\n",
      "Epoch 13/100\n",
      "7/7 [==============================] - 0s 3ms/step - loss: 1.2606 - mae: 0.8459\n",
      "Epoch 14/100\n",
      "7/7 [==============================] - 0s 4ms/step - loss: 1.2227 - mae: 0.8284\n",
      "Epoch 15/100\n",
      "7/7 [==============================] - 0s 2ms/step - loss: 1.1819 - mae: 0.8142\n",
      "Epoch 16/100\n",
      "7/7 [==============================] - 0s 2ms/step - loss: 1.1478 - mae: 0.8037\n",
      "Epoch 17/100\n",
      "7/7 [==============================] - 0s 3ms/step - loss: 1.1241 - mae: 0.7951\n",
      "Epoch 18/100\n",
      "7/7 [==============================] - 0s 3ms/step - loss: 1.1050 - mae: 0.7866\n",
      "Epoch 19/100\n",
      "7/7 [==============================] - 0s 3ms/step - loss: 1.0918 - mae: 0.7853\n",
      "Epoch 20/100\n",
      "7/7 [==============================] - 0s 4ms/step - loss: 1.0729 - mae: 0.7804\n",
      "Epoch 21/100\n",
      "7/7 [==============================] - 0s 7ms/step - loss: 1.0540 - mae: 0.7744\n",
      "Epoch 22/100\n",
      "7/7 [==============================] - 0s 8ms/step - loss: 1.0459 - mae: 0.7694\n",
      "Epoch 23/100\n",
      "7/7 [==============================] - 0s 9ms/step - loss: 1.0349 - mae: 0.7634\n",
      "Epoch 24/100\n",
      "7/7 [==============================] - 0s 9ms/step - loss: 1.0218 - mae: 0.7616\n",
      "Epoch 25/100\n",
      "7/7 [==============================] - 0s 9ms/step - loss: 1.0101 - mae: 0.7585\n",
      "Epoch 26/100\n",
      "7/7 [==============================] - 0s 8ms/step - loss: 1.0024 - mae: 0.7537\n",
      "Epoch 27/100\n",
      "7/7 [==============================] - 0s 8ms/step - loss: 0.9905 - mae: 0.7468\n",
      "Epoch 28/100\n",
      "7/7 [==============================] - 0s 7ms/step - loss: 0.9807 - mae: 0.7422\n",
      "Epoch 29/100\n",
      "7/7 [==============================] - 0s 4ms/step - loss: 0.9696 - mae: 0.7426\n",
      "Epoch 30/100\n",
      "7/7 [==============================] - 0s 4ms/step - loss: 0.9683 - mae: 0.7441\n",
      "Epoch 31/100\n",
      "7/7 [==============================] - 0s 4ms/step - loss: 0.9538 - mae: 0.7374\n",
      "Epoch 32/100\n",
      "7/7 [==============================] - 0s 4ms/step - loss: 0.9433 - mae: 0.7315\n",
      "Epoch 33/100\n",
      "7/7 [==============================] - 0s 4ms/step - loss: 0.9395 - mae: 0.7319\n",
      "Epoch 34/100\n",
      "7/7 [==============================] - 0s 5ms/step - loss: 0.9428 - mae: 0.7299\n",
      "Epoch 35/100\n",
      "7/7 [==============================] - 0s 5ms/step - loss: 0.9298 - mae: 0.7241\n",
      "Epoch 36/100\n",
      "7/7 [==============================] - 0s 5ms/step - loss: 0.9165 - mae: 0.7160\n",
      "Epoch 37/100\n",
      "7/7 [==============================] - 0s 6ms/step - loss: 0.9116 - mae: 0.7156\n",
      "Epoch 38/100\n",
      "7/7 [==============================] - 0s 5ms/step - loss: 0.9016 - mae: 0.7136\n",
      "Epoch 39/100\n",
      "7/7 [==============================] - 0s 5ms/step - loss: 0.8995 - mae: 0.7106\n",
      "Epoch 40/100\n",
      "7/7 [==============================] - 0s 4ms/step - loss: 0.8998 - mae: 0.7049\n",
      "Epoch 41/100\n",
      "7/7 [==============================] - 0s 4ms/step - loss: 0.8890 - mae: 0.7023\n",
      "Epoch 42/100\n",
      "7/7 [==============================] - 0s 5ms/step - loss: 0.8785 - mae: 0.7022\n",
      "Epoch 43/100\n",
      "7/7 [==============================] - 0s 5ms/step - loss: 0.8819 - mae: 0.7065\n",
      "Epoch 44/100\n",
      "7/7 [==============================] - 0s 5ms/step - loss: 0.8750 - mae: 0.7036\n",
      "Epoch 45/100\n",
      "7/7 [==============================] - 0s 6ms/step - loss: 0.8655 - mae: 0.6991\n",
      "Epoch 46/100\n",
      "7/7 [==============================] - 0s 4ms/step - loss: 0.8627 - mae: 0.6929\n",
      "Epoch 47/100\n",
      "7/7 [==============================] - 0s 4ms/step - loss: 0.8620 - mae: 0.6904\n",
      "Epoch 48/100\n",
      "7/7 [==============================] - 0s 4ms/step - loss: 0.8409 - mae: 0.6832\n",
      "Epoch 49/100\n",
      "7/7 [==============================] - 0s 4ms/step - loss: 0.8845 - mae: 0.7000\n",
      "Epoch 50/100\n",
      "7/7 [==============================] - 0s 5ms/step - loss: 0.8716 - mae: 0.6922\n",
      "Epoch 51/100\n",
      "7/7 [==============================] - 0s 5ms/step - loss: 0.8393 - mae: 0.6804\n",
      "Epoch 52/100\n",
      "7/7 [==============================] - 0s 5ms/step - loss: 0.8366 - mae: 0.6799\n",
      "Epoch 53/100\n",
      "7/7 [==============================] - 0s 5ms/step - loss: 0.8337 - mae: 0.6791\n",
      "Epoch 54/100\n",
      "7/7 [==============================] - 0s 5ms/step - loss: 0.8317 - mae: 0.6769\n",
      "Epoch 55/100\n",
      "7/7 [==============================] - 0s 5ms/step - loss: 0.8273 - mae: 0.6716\n",
      "Epoch 56/100\n",
      "7/7 [==============================] - 0s 5ms/step - loss: 0.8275 - mae: 0.6720\n",
      "Epoch 57/100\n",
      "7/7 [==============================] - 0s 5ms/step - loss: 0.8151 - mae: 0.6729\n",
      "Epoch 58/100\n",
      "7/7 [==============================] - 0s 5ms/step - loss: 0.8148 - mae: 0.6746\n",
      "Epoch 59/100\n",
      "7/7 [==============================] - 0s 5ms/step - loss: 0.8240 - mae: 0.6758\n",
      "Epoch 60/100\n",
      "7/7 [==============================] - 0s 5ms/step - loss: 0.8210 - mae: 0.6710\n",
      "Epoch 61/100\n",
      "7/7 [==============================] - 0s 5ms/step - loss: 0.8134 - mae: 0.6645\n",
      "Epoch 62/100\n",
      "7/7 [==============================] - 0s 5ms/step - loss: 0.8022 - mae: 0.6618\n",
      "Epoch 63/100\n",
      "7/7 [==============================] - 0s 5ms/step - loss: 0.7957 - mae: 0.6578\n",
      "Epoch 64/100\n",
      "7/7 [==============================] - 0s 4ms/step - loss: 0.7911 - mae: 0.6559\n",
      "Epoch 65/100\n",
      "7/7 [==============================] - 0s 5ms/step - loss: 0.7853 - mae: 0.6501\n",
      "Epoch 66/100\n",
      "7/7 [==============================] - 0s 4ms/step - loss: 0.7895 - mae: 0.6530\n",
      "Epoch 67/100\n",
      "7/7 [==============================] - 0s 5ms/step - loss: 0.7929 - mae: 0.6544\n",
      "Epoch 68/100\n",
      "7/7 [==============================] - 0s 5ms/step - loss: 0.7798 - mae: 0.6453\n",
      "Epoch 69/100\n",
      "7/7 [==============================] - 0s 4ms/step - loss: 0.7782 - mae: 0.6397\n",
      "Epoch 70/100\n",
      "7/7 [==============================] - 0s 4ms/step - loss: 0.7764 - mae: 0.6409\n",
      "Epoch 71/100\n",
      "7/7 [==============================] - 0s 8ms/step - loss: 0.7907 - mae: 0.6441\n",
      "Epoch 72/100\n",
      "7/7 [==============================] - 0s 9ms/step - loss: 0.7796 - mae: 0.6389\n",
      "Epoch 73/100\n",
      "7/7 [==============================] - 0s 9ms/step - loss: 0.7611 - mae: 0.6350\n",
      "Epoch 74/100\n",
      "7/7 [==============================] - 0s 8ms/step - loss: 0.7581 - mae: 0.6343\n",
      "Epoch 75/100\n",
      "7/7 [==============================] - 0s 6ms/step - loss: 0.7563 - mae: 0.6387\n",
      "Epoch 76/100\n",
      "7/7 [==============================] - 0s 4ms/step - loss: 0.7541 - mae: 0.6370\n",
      "Epoch 77/100\n",
      "7/7 [==============================] - 0s 4ms/step - loss: 0.7554 - mae: 0.6390\n",
      "Epoch 78/100\n",
      "7/7 [==============================] - 0s 5ms/step - loss: 0.7510 - mae: 0.6373\n",
      "Epoch 79/100\n",
      "7/7 [==============================] - 0s 4ms/step - loss: 0.7461 - mae: 0.6359\n",
      "Epoch 80/100\n",
      "7/7 [==============================] - 0s 4ms/step - loss: 0.7454 - mae: 0.6350\n",
      "Epoch 81/100\n",
      "7/7 [==============================] - 0s 4ms/step - loss: 0.7367 - mae: 0.6283\n",
      "Epoch 82/100\n",
      "7/7 [==============================] - 0s 5ms/step - loss: 0.7375 - mae: 0.6268\n",
      "Epoch 83/100\n",
      "7/7 [==============================] - 0s 4ms/step - loss: 0.7357 - mae: 0.6224\n",
      "Epoch 84/100\n",
      "7/7 [==============================] - 0s 4ms/step - loss: 0.7324 - mae: 0.6179\n",
      "Epoch 85/100\n",
      "7/7 [==============================] - 0s 5ms/step - loss: 0.7337 - mae: 0.6221\n",
      "Epoch 86/100\n",
      "7/7 [==============================] - 0s 5ms/step - loss: 0.7344 - mae: 0.6275\n",
      "Epoch 87/100\n",
      "7/7 [==============================] - 0s 8ms/step - loss: 0.7254 - mae: 0.6245\n",
      "Epoch 88/100\n",
      "7/7 [==============================] - 0s 6ms/step - loss: 0.7190 - mae: 0.6198\n",
      "Epoch 89/100\n",
      "7/7 [==============================] - 0s 6ms/step - loss: 0.7203 - mae: 0.6137\n",
      "Epoch 90/100\n",
      "7/7 [==============================] - 0s 5ms/step - loss: 0.7138 - mae: 0.6118\n",
      "Epoch 91/100\n",
      "7/7 [==============================] - 0s 6ms/step - loss: 0.7231 - mae: 0.6245\n",
      "Epoch 92/100\n",
      "7/7 [==============================] - 0s 6ms/step - loss: 0.7353 - mae: 0.6312\n",
      "Epoch 93/100\n",
      "7/7 [==============================] - 0s 6ms/step - loss: 0.7166 - mae: 0.6237\n",
      "Epoch 94/100\n",
      "7/7 [==============================] - 0s 5ms/step - loss: 0.7198 - mae: 0.6207\n",
      "Epoch 95/100\n",
      "7/7 [==============================] - 0s 5ms/step - loss: 0.7105 - mae: 0.6147\n",
      "Epoch 96/100\n",
      "7/7 [==============================] - 0s 5ms/step - loss: 0.7037 - mae: 0.6096\n",
      "Epoch 97/100\n",
      "7/7 [==============================] - 0s 12ms/step - loss: 0.7069 - mae: 0.6058\n",
      "Epoch 98/100\n",
      "7/7 [==============================] - 0s 6ms/step - loss: 0.7019 - mae: 0.6066\n",
      "Epoch 99/100\n",
      "7/7 [==============================] - 0s 4ms/step - loss: 0.6995 - mae: 0.6063\n",
      "Epoch 100/100\n",
      "7/7 [==============================] - 0s 15ms/step - loss: 0.6982 - mae: 0.6023\n",
      "Mean Squared Error:  1.1723923683166504\n"
     ]
    }
   ],
   "source": [
    "\n",
    "# Load tips dataset\n",
    "tips = sns.load_dataset('tips')\n",
    "\n",
    "# Preprocessing\n",
    "# Converting categorical variables to dummy variables\n",
    "tips = pd.get_dummies(tips, drop_first=True)\n",
    "\n",
    "# Selecting features and target (predicting 'tip' based on other features)\n",
    "X = tips.drop('tip', axis=1)\n",
    "y = tips['tip']\n",
    "\n",
    "# Splitting the dataset\n",
    "X_train, X_test, y_train, y_test = train_test_split(X, y, \n",
    "                                                    test_size=0.2, \n",
    "                                                    random_state=42)\n",
    "\n",
    "# Standardizing the data\n",
    "scaler = StandardScaler()\n",
    "X_train = scaler.fit_transform(X_train)\n",
    "X_test = scaler.transform(X_test)\n",
    "\n",
    "# Building the model\n",
    "model = tf.keras.models.Sequential([\n",
    "    tf.keras.layers.Dense(64, activation='relu', \n",
    "                          input_shape=(X_train.shape[1],)), # Input layer\n",
    "    \n",
    "    tf.keras.layers.Dense(32, activation='relu'), # Hidden layer\n",
    "    \n",
    "    tf.keras.layers.Dense(1)  # Output layer for regression\n",
    "])\n",
    "\n",
    "# Compile the model\n",
    "model.compile(optimizer='adam', loss='mean_squared_error', metrics=['mae'])\n",
    "\n",
    "# Training the model\n",
    "model.fit(X_train, y_train, epochs=100, batch_size=32, verbose=1)\n",
    "\n",
    "# Evaluating the model (using Mean Squared Error)\n",
    "loss = model.evaluate(X_test, y_test, verbose=0)\n",
    "print('Mean Squared Error: ', loss[0])\n"
   ]
  },
  {
   "cell_type": "code",
   "execution_count": 71,
   "metadata": {},
   "outputs": [
    {
     "data": {
      "text/plain": [
       "1.1360434293746948"
      ]
     },
     "execution_count": 71,
     "metadata": {},
     "output_type": "execute_result"
    }
   ],
   "source": [
    "# Building the model\n",
    "model = tf.keras.models.Sequential([\n",
    "    tf.keras.layers.Dense(64, activation='relu', input_shape=(X_train.shape[1],)), # Input layer\n",
    "    tf.keras.layers.Dense(32, activation='relu'), # Hidden layer\n",
    "    tf.keras.layers.Dense(1)  # Output layer for regression\n",
    "])\n",
    "\n",
    "# Compile the model\n",
    "model.compile(optimizer='adam', loss='mean_squared_error')\n",
    "\n",
    "# train the model and plot the training and testing loss and accuracy at each epoc\n",
    "history = model.fit(X_train, y_train, epochs=100, batch_size=32, verbose=0, validation_data=(X_test, y_test))\n",
    "\n",
    "# Evaluating the model (using Mean Squared Error)\n",
    "loss = model.evaluate(X_test, y_test, verbose=0)\n",
    "loss"
   ]
  },
  {
   "cell_type": "code",
   "execution_count": 72,
   "metadata": {},
   "outputs": [],
   "source": [
    "# Plotting the training and testing loss\n",
    "\n",
    "import matplotlib.pyplot as plt"
   ]
  },
  {
   "cell_type": "code",
   "execution_count": 73,
   "metadata": {},
   "outputs": [
    {
     "data": {
      "image/png": "[encoded data removed]",
      "text/plain": [
       "<Figure size 640x480 with 1 Axes>"
      ]
     },
     "metadata": {},
     "output_type": "display_data"
    }
   ],
   "source": [
    "plt.plot(history.history['loss'])\n",
    "plt.plot(history.history['val_loss'])\n",
    "plt.title('Model loss')\n",
    "plt.ylabel('Loss')\n",
    "plt.ylabel('Epoch')\n",
    "plt.legend(['Train', 'Validation'], loc='upper right')\n",
    "plt.show()"
   ]
  },
  {
   "cell_type": "markdown",
   "metadata": {},
   "source": [
    "## Early Stopping of Epochs"
   ]
  },
  {
   "cell_type": "code",
   "execution_count": 74,
   "metadata": {},
   "outputs": [],
   "source": [
    "from tensorflow.keras.callbacks import EarlyStopping"
   ]
  },
  {
   "cell_type": "code",
   "execution_count": 79,
   "metadata": {},
   "outputs": [
    {
     "name": "stdout",
     "output_type": "stream",
     "text": [
      "Epoch 1/100\n",
      "7/7 [==============================] - 2s 65ms/step - loss: 8.2487 - val_loss: 4.4953\n",
      "Epoch 2/100\n",
      "7/7 [==============================] - 0s 14ms/step - loss: 6.2644 - val_loss: 3.1818\n",
      "Epoch 3/100\n",
      "7/7 [==============================] - 0s 14ms/step - loss: 4.4849 - val_loss: 2.1652\n",
      "Epoch 4/100\n",
      "7/7 [==============================] - 0s 15ms/step - loss: 3.0954 - val_loss: 1.5278\n",
      "Epoch 5/100\n",
      "7/7 [==============================] - 0s 15ms/step - loss: 2.0663 - val_loss: 1.3342\n",
      "Epoch 6/100\n",
      "7/7 [==============================] - 0s 16ms/step - loss: 1.5077 - val_loss: 1.4407\n",
      "Epoch 7/100\n",
      "7/7 [==============================] - 0s 17ms/step - loss: 1.3712 - val_loss: 1.5958\n",
      "Epoch 8/100\n",
      "7/7 [==============================] - 0s 15ms/step - loss: 1.3782 - val_loss: 1.5906\n",
      "Epoch 9/100\n",
      "7/7 [==============================] - 0s 16ms/step - loss: 1.3248 - val_loss: 1.4596\n",
      "Epoch 10/100\n",
      "7/7 [==============================] - 0s 16ms/step - loss: 1.2703 - val_loss: 1.3439\n"
     ]
    },
    {
     "data": {
      "text/plain": [
       "1.343875527381897"
      ]
     },
     "execution_count": 79,
     "metadata": {},
     "output_type": "execute_result"
    }
   ],
   "source": [
    "# Building the model\n",
    "\n",
    "model = tf.keras.models.Sequential([\n",
    "    tf.keras.layers.Dense(64, activation ='relu', input_shape=(X_train.shape[1],)), # Input layer\n",
    "    tf.keras.layers.Dense(32, activation ='relu'), # Hidden layer\n",
    "    tf.keras.layers.Dense(1) # Output layer for regression\n",
    "])\n",
    "\n",
    "# Compile the model\n",
    "model.compile(optimizer='adam', loss='mean_squared_error')\n",
    "\n",
    "# Define the callback fundtion\n",
    "early_stopping = EarlyStopping(patience=5)\n",
    "\n",
    "# Train the model with the callback function\n",
    "\n",
    "history = model.fit(X_train, y_train, epochs=100, batch_size=32, verbose=1, validation_data=(X_test, y_test), callbacks=[early_stopping])\n",
    "\n",
    "\n",
    "# Evaluation the odel (uig Mean Squard Error )\n",
    "\n",
    "loss = model.evaluate(X_test, y_test, verbose=0)\n",
    "loss\n",
    "\n"
   ]
  },
  {
   "cell_type": "code",
   "execution_count": 80,
   "metadata": {},
   "outputs": [],
   "source": [
    "# Plotting the traing and testing loss\n",
    "\n",
    "import matplotlib.pyplot as plt"
   ]
  },
  {
   "cell_type": "code",
   "execution_count": 81,
   "metadata": {},
   "outputs": [
    {
     "data": {
      "image/png": "[encoded data removed]",
      "text/plain": [
       "<Figure size 640x480 with 1 Axes>"
      ]
     },
     "metadata": {},
     "output_type": "display_data"
    }
   ],
   "source": [
    "plt.plot(history.history['loss'])\n",
    "plt.plot(history.history['val_loss'])\n",
    "plt.title('Model loss')\n",
    "plt.ylabel('Loss')\n",
    "plt.xlabel('Epoch')\n",
    "plt.legend(['Train', 'Validation'], loc='upper right')\n",
    "plt.show()"
   ]
  },
  {
   "cell_type": "code",
   "execution_count": null,
   "metadata": {},
   "outputs": [],
   "source": []
  }
 ],
 "metadata": {
  "kernelspec": {
   "display_name": "tf_env",
   "language": "python",
   "name": "python3"
  },
  "language_info": {
   "codemirror_mode": {
    "name": "ipython",
    "version": 3
   },
   "file_extension": ".py",
   "mimetype": "text/x-python",
   "name": "python",
   "nbconvert_exporter": "python",
   "pygments_lexer": "ipython3",
   "version": "3.11.7"
  }
 },
 "nbformat": 4,
 "nbformat_minor": 2
}
