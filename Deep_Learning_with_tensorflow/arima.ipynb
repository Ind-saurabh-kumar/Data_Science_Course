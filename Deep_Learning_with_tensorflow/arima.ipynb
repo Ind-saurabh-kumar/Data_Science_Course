{
 "cells": [
  {
   "cell_type": "markdown",
   "metadata": {},
   "source": [
    "# ARIMA"
   ]
  },
  {
   "cell_type": "markdown",
   "metadata": {},
   "source": [
    "Autoregressive Integrated Moving Average\n",
    "\n",
    "- ARIMA(p,d,q)\n",
    "   - p is the order of the autoregressive model \n",
    "   - d is the degree of differencing \n",
    "   - q is the order of the moving average model \n",
    "\n",
    "ARIMA is definde as teh sum of the AR(p) and MA(q) models with a degree of differencing d. \n",
    "\n",
    "# AR vs MA Models \n",
    "- AR: A regression modle that utilizes the dependent relationship between a current observation and observations over a previous period. \n",
    "- MA: A model that uses the dependency between an observation and a residual error from a  moving average model applied to lagged observations.\n",
    "\n",
    "AR and MA models are both components of the ARIMA modle, but they havae different characteristics adn uses. \n",
    "\n",
    "AR (Autoregressive) modles use past values of the time series to prdict futere values. The order of the AR modle, denoted by p, specifies the number of past values ot use in the prediction. An AR model of order p cvna be written as: \n",
    "\n",
    "y_t = c + phi_1 * y_{t-1} + phi_2 * y_{t-2} + ... + phi_p * y_{t-p} + e_t\n",
    "\n",
    "where y_t is the value fo the time series at time t, c is a constant, e_t is the eroor term at tiem t, and  theta_1 to theta_q are the coefficients of the past error terms. \n",
    "\n",
    "In summary, AR models use past values fo the time series to predict future values, while MA models use past error terms to predict futerue values. Both AR and MA modles can be combined in the ARIMA modle to capture the autocorrelation and seasonality of the time series. \n",
    "\n"
   ]
  },
  {
   "cell_type": "code",
   "execution_count": null,
   "metadata": {},
   "outputs": [],
   "source": [
    "import pandas as pd \n",
    "from statsmodels.tsa.arima.models import ARIMA \n",
    "\n",
    "# Load a sample dataset. We'll use \"airPassengers\" dataset. \n",
    "df=pd.read_csv('AirPassengers.csv')\n",
    "\n",
    "# We'll use the \"Passengers\" column to train our ARIMA model. \n",
    "# For this example, we'll use an ARIMA(2, 1, 2) model.\n",
    "\n",
    "modle = ARIMA(df['#Pasengers'], order=(2,1,2))\n",
    "\n"
   ]
  }
 ],
 "metadata": {
  "language_info": {
   "name": "python"
  }
 },
 "nbformat": 4,
 "nbformat_minor": 2
}
