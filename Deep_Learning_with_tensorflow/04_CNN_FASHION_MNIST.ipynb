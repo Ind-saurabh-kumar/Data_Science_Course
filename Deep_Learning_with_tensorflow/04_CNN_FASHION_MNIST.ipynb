{
 "cells": [
  {
   "cell_type": "markdown",
   "metadata": {},
   "source": [
    "# Convolutional Neural Network (CNN)\n",
    "\n",
    "Convolutonal Neural Networks (CNNs) are a class of deep neural networks commonly used in `image recognition` and `processing`. When discussng CNNS, several key terms and concepts come into play:\n",
    "\n",
    "- **Convolutional Layer:** This layer applies convolutional operations to the input, producgin feature maps. It is the core building block of a CNN. \n",
    "   - **Convolutional Operation:** This operation involves a `kernae` or (`filter`) that is passed over the input data, performing elemnt-wise muliplication with the part of the input it is currently `focused` on. The result is a single value in the output feature map."
   ]
  },
  {
   "cell_type": "code",
   "execution_count": 1,
   "metadata": {},
   "outputs": [],
   "source": [
    "import tensorflow as tf \n",
    "from tensorflow import keras \n",
    "from tensorflow.keras import layers \n",
    "import matplotlib.pyplot as plt \n",
    "from tensorflow.keras.callbacks import EarlyStopping"
   ]
  },
  {
   "cell_type": "code",
   "execution_count": null,
   "metadata": {},
   "outputs": [],
   "source": []
  }
 ],
 "metadata": {
  "kernelspec": {
   "display_name": "tf_env",
   "language": "python",
   "name": "python3"
  },
  "language_info": {
   "codemirror_mode": {
    "name": "ipython",
    "version": 3
   },
   "file_extension": ".py",
   "mimetype": "text/x-python",
   "name": "python",
   "nbconvert_exporter": "python",
   "pygments_lexer": "ipython3",
   "version": "3.11.7"
  }
 },
 "nbformat": 4,
 "nbformat_minor": 2
}
