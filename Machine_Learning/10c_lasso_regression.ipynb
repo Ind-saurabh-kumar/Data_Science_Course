{
 "cells": [
  {
   "cell_type": "markdown",
   "metadata": {},
   "source": [
    "# **Lasso Regression**"
   ]
  },
  {
   "cell_type": "markdown",
   "metadata": {},
   "source": [
    "`Lasso Regression,` which stands for Least Absolute Shrinkage and Selection Operator, is a type of linear regressin that uses shrinkage. Sharinkage har mens that the data values are shrunk towards a centeral piont, like themena. The lasso technique encouraages simple, sparese models (i.e., models with fewer parameters). this particular type of regression is well-suited for models showing high levels of multicollinearity or when you want to automate certain parts fo model selection, like variable selection/parameter elimination."
   ]
  },
  {
   "cell_type": "markdown",
   "metadata": {},
   "source": [
    "## Key Features of Lasso Regression:\n",
    "\n",
    "1. **`Regularization Term`**: The key characteristic of Lasso Regression is that it adds an L1 penalty ot the regression model, which is the absolute value of teh magnitude of teh coefficients.\n",
    "\n",
    "The cost function for Lasso regressin is: \n",
    "\n",
    " $$ \\text{Minimize } \\sum_{i=1}^{n} (y_i - \\sum_{j=1}^{p} x_{ij} \\beta_j)^2 + \\lambda \\sum_{j=1}^{p} |\\beta_j| $$\n",
    "\n",
    "   where $ \\lambda $ is the regularization parameter.\n",
    "\n",
    "2. **`Feature Selection`**: One of the advantages fo lasso regression over ridge regression is nthat it can result in sparese models wiht few coefficients; some coefficients can become exactly zero and be eliminatd from the model. This propety is called autmatic feature selectidon and is a form fo embadded method. \n",
    "\n",
    "\n",
    "3. **`Parameter Tuning`**: The strenght of the L1 penalty is determined by a parameter, typically denoted as alpha or lambda. Selection a good value for this parameter is crucial and is typically done uisng cross-valication.\n",
    "\n",
    "4. **`Bias-Variance Tradeoff:`** Similar to ridge regressin, lasso also manages the bias-variance tradeoff in model training. Incrading the regrlarization strengh increses bias but decreases"
   ]
  },
  {
   "cell_type": "code",
   "execution_count": null,
   "metadata": {},
   "outputs": [],
   "source": []
  }
 ],
 "metadata": {
  "language_info": {
   "name": "python"
  }
 },
 "nbformat": 4,
 "nbformat_minor": 2
}
