{
 "cells": [
  {
   "cell_type": "markdown",
   "metadata": {},
   "source": [
    "# Inverse encoding / Inverse transorm/ Decoding categorical variables \n",
    "\n",
    "Inverse encoding is the proecess of converting the encoded data back to its original form. This is done by uisng the ` inverse_transform()` method. This method is available for the following encoders: \n",
    "\n",
    "- `LabelEncoder`\n",
    "- `OrdinalEncoder`\n",
    "- `OneHotEncoder`"
   ]
  },
  {
   "cell_type": "code",
   "execution_count": null,
   "metadata": {},
   "outputs": [],
   "source": []
  }
 ],
 "metadata": {
  "language_info": {
   "name": "python"
  }
 },
 "nbformat": 4,
 "nbformat_minor": 2
}
