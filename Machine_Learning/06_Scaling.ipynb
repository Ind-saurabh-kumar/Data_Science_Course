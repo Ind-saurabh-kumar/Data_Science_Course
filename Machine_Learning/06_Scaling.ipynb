{
 "cells": [
  {
   "cell_type": "markdown",
   "metadata": {},
   "source": [
    "# **1. Standard Scaling**\n",
    "\n",
    "`Standard scaling` is a mehtod to scaling the data sucha that distribution of the data is centered around 0, whith a standard deviation of 1. This done by subtracting the mean of the data from each data point and then dividing by the standard deviation of the data. This is a very common method of scaling data, ans is used in many machine learing algorithms.\n",
    "\n",
    "The formula is as follows:\n",
    "\n",
    "# **z = (x - μ) / σ**\n"
   ]
  },
  {
   "cell_type": "code",
   "execution_count": 1,
   "metadata": {},
   "outputs": [],
   "source": [
    "# import libraries\n",
    "import pandas as pd\n",
    "from sklearn.preprocessing import StandardScaler, MinMaxScaler, MaxAbsScaler"
   ]
  },
  {
   "cell_type": "code",
   "execution_count": null,
   "metadata": {},
   "outputs": [],
   "source": [
    "# make an example dataset \n",
    "\n"
   ]
  }
 ],
 "metadata": {
  "kernelspec": {
   "display_name": "python_ml",
   "language": "python",
   "name": "python3"
  },
  "language_info": {
   "codemirror_mode": {
    "name": "ipython",
    "version": 3
   },
   "file_extension": ".py",
   "mimetype": "text/x-python",
   "name": "python",
   "nbconvert_exporter": "python",
   "pygments_lexer": "ipython3",
   "version": "3.11.7"
  }
 },
 "nbformat": 4,
 "nbformat_minor": 2
}
