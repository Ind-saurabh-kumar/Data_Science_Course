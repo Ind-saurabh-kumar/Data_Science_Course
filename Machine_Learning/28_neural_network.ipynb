{
 "cells": [
  {
   "cell_type": "markdown",
   "metadata": {},
   "source": [
    "# Simple Neural Network Using Scikit-learn \n",
    "Scikit-learn is a powerful Python module for machine learing. It contains function for regression, classification, clustering, model selction and dimensinality reduction. Tody, I will explore the sklearn.neural_netowrk module. This module implements the MLP algorithm that can train models to solve both classifiction and regression problems the MLP algorithm that can trian models to solve both classification and regression problems. MLP stands for Multi_layer Perceptron. It si a supervised learning algorithm that learns a function by training on a datset. Given a set of features and a target, it can learn a non_liner function approximator for eitther classification or regression. It is different from logistic regrression, in that between the input and the output layer, there can be one or more non-liner layers, called hidden layers. \n",
    "\n",
    "Let's have a look on MLP classifier first "
   ]
  },
  {
   "cell_type": "code",
   "execution_count": 1,
   "metadata": {},
   "outputs": [],
   "source": [
    "import seaborn as sns \n",
    "import pandas as pd \n",
    "\n",
    "from sklearn.model_selection import train_test_split \n",
    "from sklearn.preprocessing import StandardScaler\n",
    "from sklearn.neural_network import MLPClassifier \n",
    "from sklearn.metrics import accuracy_score"
   ]
  },
  {
   "cell_type": "code",
   "execution_count": null,
   "metadata": {},
   "outputs": [],
   "source": [
    "# Load titanic dataset \n",
    "titanic = sns.load_dataset('titanic')"
   ]
  }
 ],
 "metadata": {
  "kernelspec": {
   "display_name": "python_ml",
   "language": "python",
   "name": "python3"
  },
  "language_info": {
   "codemirror_mode": {
    "name": "ipython",
    "version": 3
   },
   "file_extension": ".py",
   "mimetype": "text/x-python",
   "name": "python",
   "nbconvert_exporter": "python",
   "pygments_lexer": "ipython3",
   "version": "3.11.7"
  }
 },
 "nbformat": 4,
 "nbformat_minor": 2
}
