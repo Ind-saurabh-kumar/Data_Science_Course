{
 "cells": [
  {
   "cell_type": "markdown",
   "metadata": {},
   "source": [
    "# ANOVA\n",
    "`ANOVA` is a statistical test that stands for anlysis of variance.\n",
    "\n",
    "\n",
    "`ANOVA` was developed by statistician and evolutionary biologist Ronald Fisher. Teh ida behind ANOVA is to compare different groups of smaples to determine wheter ther is a significant differnce betwwn the groups.\n",
    "\n",
    "`ANOVA` is an extension of the t ans the z test and was developed to compare more than two groups.\n",
    "\n",
    "The null hypothesis of ANOVA is that there is no difference betwwn the groups. Teh alternative hypthesis is that there is a diffence betwwn the groups.\n",
    "\n",
    "`ANOVA` is an omnibus test, meaing it tests the data as a whole, It does not tell you which specific groups were significantly different from each other; it only tells you that at least two groups were different.\n",
    "\n",
    "\n",
    "## Types of ANOVA\n",
    "\n",
    "There are three types of `ANOVA`: \n",
    "1. One-way ANOVA\n",
    "2. Two-way ANOVA\n",
    "3. N-way ANOVA\n",
    "\n",
    "\n",
    "## One-way ANOVA:\n",
    "\n",
    "One-way ANOVA is used to compare two or more groups of samples acrosss one continuous independent varibale.\n",
    "\n",
    "For example, you could use a one-way ANOVA to compare the height of peopel living in different cities\n",
    "\n",
    "## Two-way ANOVA:\n",
    "\n",
    "Two-way ANOVA is used to compare two or more groups of samples across two independent variables.\n",
    "\n",
    "For example, you could use a two-way ANOVA to compare the height of people living in different cities and different countries.\n",
    "\n",
    "\n",
    "## N-way ANOVA:\n",
    "\n",
    "N-way ANOVA is used to compare two or more groups of samples across N independent variables.\n",
    "\n",
    "## Assumptions of ANOVA \n",
    "ANOVA has three main assumptions:\n",
    " 1. The samples are independent.\n",
    " 2. The samples are normally distributed.\n",
    " 3. The variance of eac group is equal\n",
    "\n",
    "If these assumptions are not met, you may not be able to trust the result of  your ANOVA.\n",
    "\n",
    "\n",
    "\n",
    "# 1. ONE-WAY ANOVA  \n",
    "\n"
   ]
  },
  {
   "cell_type": "code",
   "execution_count": 3,
   "metadata": {},
   "outputs": [
    {
     "name": "stdout",
     "output_type": "stream",
     "text": [
      "F-statistic: 15.662162162162158\n",
      "p-value: 0.0004515404760997282\n",
      "Reject null hypothesis: The means are not equal, as the p-value: {p_val} is less than 0.05\n"
     ]
    }
   ],
   "source": [
    "import scipy.stats as stats \n",
    "\n",
    "# Sample data: Growth of plants with three types of fertilizers\n",
    "fertilizer1 = [20, 22, 19, 24, 25]\n",
    "fertilizer2 = [28, 30, 27, 26, 29]\n",
    "fertilizer3 = [18, 20, 22, 19, 24]\n",
    "\n",
    "# Perform the one-way ANOVA\n",
    "f_stat, p_val = stats.f_oneway(fertilizer1, fertilizer2, fertilizer3)\n",
    "\n",
    "print(\"F-statistic:\", f_stat)\n",
    "print(\"p-value:\", p_val)\n",
    "\n",
    "# print the results based on if the p-value is less than 0.05\n",
    "\n",
    "if p_val < 0.05:\n",
    "    print(\"Reject null hypothesis: The means are not equal, as the p-value: {p_val} is less than 0.05\")\n",
    "else:\n",
    "   print(\"Accept null hypothesis: The means are equal, as the p-value: {p_val} is greater than 0.05\")\n"
   ]
  },
  {
   "cell_type": "code",
   "execution_count": 4,
   "metadata": {},
   "outputs": [],
   "source": [
    "!pip install statsmodels --quiet"
   ]
  },
  {
   "cell_type": "code",
   "execution_count": 5,
   "metadata": {},
   "outputs": [],
   "source": [
    "# One-way ANOVA using statsmodels\n",
    "\n",
    "import pandas as pd \n",
    "import statsmodels.api as sm \n",
    "from statsmodels.formula.api import ols"
   ]
  },
  {
   "cell_type": "code",
   "execution_count": null,
   "metadata": {},
   "outputs": [],
   "source": [
    "# Create a dataframe\n",
    "\n",
    "df = pd.DataFrame()"
   ]
  }
 ],
 "metadata": {
  "kernelspec": {
   "display_name": "ydata_profiling",
   "language": "python",
   "name": "python3"
  },
  "language_info": {
   "codemirror_mode": {
    "name": "ipython",
    "version": 3
   },
   "file_extension": ".py",
   "mimetype": "text/x-python",
   "name": "python",
   "nbconvert_exporter": "python",
   "pygments_lexer": "ipython3",
   "version": "3.10.0"
  }
 },
 "nbformat": 4,
 "nbformat_minor": 2
}
