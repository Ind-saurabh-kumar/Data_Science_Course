{
 "cells": [
  {
   "cell_type": "markdown",
   "metadata": {},
   "source": [
    "# ANOVA\n",
    "`ANOVA` is a statistical test that stands for anlysis of variance.\n",
    "\n",
    "\n",
    "`ANOVA` was developed by statistician and evolutionary biologist Ronald Fisher. Teh ida behind ANOVA is to compare different groups of smaples to determine wheter ther is a significant differnce betwwn the groups.\n",
    "\n",
    "`ANOVA` is an extension of the t ans the z test and was developed to compare more than two groups.\n",
    "\n",
    "The null hypothesis of ANOVA is that there is no difference betwwn the groups. Teh alternative hypthesis is that there is a diffence betwwn the groups.\n",
    "\n",
    "`ANOVA` is an omnibus test, meaing it tests the data as a whole, It does not tell you which specific groups were significantly different from each other; it only tells you that at least two groups were different.\n",
    "\n",
    "\n",
    "## Types of ANOVA\n",
    "\n",
    "There are three types of `ANOVA`: \n",
    "1. One-way ANOVA\n",
    "2. Two-way ANOVA\n",
    "3. N-way ANOVA\n",
    "\n",
    "\n",
    "## One-way ANOVA:\n",
    "\n",
    "One-way ANOVA is used to compare two or more groups of samples acrosss one continuous independent varibale.\n",
    "\n",
    "For example, you could use a one-way ANOVA to compare the height of peopel living in different cities\n"
   ]
  },
  {
   "cell_type": "code",
   "execution_count": null,
   "metadata": {},
   "outputs": [],
   "source": []
  }
 ],
 "metadata": {
  "language_info": {
   "name": "python"
  }
 },
 "nbformat": 4,
 "nbformat_minor": 2
}
