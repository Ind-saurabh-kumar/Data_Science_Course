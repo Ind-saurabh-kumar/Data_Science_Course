{
 "cells": [
  {
   "cell_type": "markdown",
   "metadata": {},
   "source": [
    "# Linear Algebra in Python"
   ]
  },
  {
   "cell_type": "code",
   "execution_count": 1,
   "metadata": {},
   "outputs": [],
   "source": [
    "import numpy as np"
   ]
  },
  {
   "cell_type": "code",
   "execution_count": 2,
   "metadata": {},
   "outputs": [
    {
     "data": {
      "text/plain": [
       "array([[2, 3],\n",
       "       [5, 7]])"
      ]
     },
     "execution_count": 2,
     "metadata": {},
     "output_type": "execute_result"
    }
   ],
   "source": [
    "# coefficeient matrix A \n",
    "\n",
    "A = np.array([[2,3], [5,7]])     # 2x2 matrix\n",
    "\n",
    "A"
   ]
  },
  {
   "cell_type": "code",
   "execution_count": 3,
   "metadata": {},
   "outputs": [
    {
     "data": {
      "text/plain": [
       "array([ 8, 20])"
      ]
     },
     "execution_count": 3,
     "metadata": {},
     "output_type": "execute_result"
    }
   ],
   "source": [
    "# constant matrix B \n",
    "\n",
    "B = np.array([8,20])\n",
    "B"
   ]
  },
  {
   "cell_type": "markdown",
   "metadata": {},
   "source": [
    "2x + 3y = 8\n",
    "\n",
    "5x + 4y = 20 \n"
   ]
  },
  {
   "cell_type": "code",
   "execution_count": 6,
   "metadata": {},
   "outputs": [
    {
     "data": {
      "text/plain": [
       "array([4., 0.])"
      ]
     },
     "execution_count": 6,
     "metadata": {},
     "output_type": "execute_result"
    }
   ],
   "source": [
    "# solve for x \n",
    "\n",
    "X = np.linalg.solve(A,B) \n",
    "\n",
    "X"
   ]
  },
  {
   "cell_type": "markdown",
   "metadata": {},
   "source": [
    "# Solving Complex Equations"
   ]
  },
  {
   "cell_type": "markdown",
   "metadata": {},
   "source": [
    "### letax language\n",
    "\n",
    "\n",
    "\\[\n",
    "\\begin{align*}\n",
    "(1+2i)x +( 2-i)y &=4+i \\\\\n",
    "(3-i)x + 4y &= 3 +4i\n",
    "\\end{align*}\n",
    "\\]"
   ]
  },
  {
   "cell_type": "code",
   "execution_count": 11,
   "metadata": {},
   "outputs": [
    {
     "data": {
      "text/plain": [
       "array([[1.+2.j, 2.-1.j],\n",
       "       [3.-1.j, 4.+0.j]])"
      ]
     },
     "execution_count": 11,
     "metadata": {},
     "output_type": "execute_result"
    }
   ],
   "source": [
    "# Coefficients matrix A with complex numbers\n",
    "\n",
    "A_complex = np.array([[1+2j, 2-1j], [3-1j, 4]])\n",
    "\n",
    "A_complex"
   ]
  },
  {
   "cell_type": "code",
   "execution_count": 12,
   "metadata": {},
   "outputs": [
    {
     "data": {
      "text/plain": [
       "array([4.+1.j, 3.+4.j])"
      ]
     },
     "execution_count": 12,
     "metadata": {},
     "output_type": "execute_result"
    }
   ],
   "source": [
    "# Constants matrix B with complex numbers\n",
    "\n",
    "B_complex = np.array([4+1j, 3+4j])\n",
    "B_complex"
   ]
  },
  {
   "cell_type": "code",
   "execution_count": 10,
   "metadata": {},
   "outputs": [
    {
     "data": {
      "text/plain": [
       "array([-0.11176471-0.45294118j,  0.94705882+1.31176471j])"
      ]
     },
     "execution_count": 10,
     "metadata": {},
     "output_type": "execute_result"
    }
   ],
   "source": [
    "\n",
    "# solving for X in the complex case \n",
    "\n",
    "X_complex = np.linalg.solve(A_complex, B_complex)\n",
    "X_complex"
   ]
  },
  {
   "cell_type": "markdown",
   "metadata": {},
   "source": [
    "# vectors in Python"
   ]
  },
  {
   "cell_type": "code",
   "execution_count": 13,
   "metadata": {},
   "outputs": [],
   "source": [
    "import numpy as np\n",
    "import matplotlib.pyplot as plt"
   ]
  },
  {
   "cell_type": "code",
   "execution_count": 14,
   "metadata": {},
   "outputs": [
    {
     "data": {
      "text/plain": [
       "array([2, 3])"
      ]
     },
     "execution_count": 14,
     "metadata": {},
     "output_type": "execute_result"
    }
   ],
   "source": [
    "# create a vector\n",
    "\n",
    "v = np.array([2,3])\n",
    "v"
   ]
  },
  {
   "cell_type": "code",
   "execution_count": 18,
   "metadata": {},
   "outputs": [
    {
     "data": {
      "image/png": "[encoded data removed]",
      "text/plain": [
       "<Figure size 640x480 with 1 Axes>"
      ]
     },
     "metadata": {},
     "output_type": "display_data"
    }
   ],
   "source": [
    "# plot the vector v\n",
    "\n",
    "plt.figure()\n",
    "\n",
    "plt.quiver(0,0, v[0], v[1], angles='xy', scale_units='xy', scale=1, color='r')\n",
    "\n",
    "plt.xlim(-1,5)\n",
    "\n",
    "plt.ylim(-1,5)\n",
    "\n",
    "plt.grid()\n",
    "\n",
    "plt.title('2D Vector')\n",
    "\n",
    "plt.xlabel('X axis')\n",
    "\n",
    "plt.ylabel('Y axis')\n",
    "\n",
    "plt.gca().set_aspect('equal', adjustable='box')\n",
    "\n",
    "plt.show()"
   ]
  },
  {
   "cell_type": "markdown",
   "metadata": {},
   "source": [
    "---\n",
    "# Linear Transform"
   ]
  },
  {
   "cell_type": "markdown",
   "metadata": {},
   "source": [
    "\\[\n",
    "\\begin{bmatrix}\n",
    "\\cos(45^\\circ) & -\\sin(45^\\circ) \\\\\n",
    "\\sin(45^\\circ) & \\cos(45^\\circ)\n",
    "\\end{bmatrix}\n",
    "\\]"
   ]
  },
  {
   "cell_type": "code",
   "execution_count": 23,
   "metadata": {},
   "outputs": [
    {
     "name": "stdout",
     "output_type": "stream",
     "text": [
      "[[ 0.70710678 -0.70710678]\n",
      " [ 0.70710678  0.70710678]]\n",
      "--------------------------------------\n",
      "[2 3]\n"
     ]
    },
    {
     "data": {
      "text/plain": [
       "array([-0.70710678,  3.53553391])"
      ]
     },
     "execution_count": 23,
     "metadata": {},
     "output_type": "execute_result"
    }
   ],
   "source": [
    "# Define the rotation matrix for 45 degree rotation\n",
    "\n",
    "theta = np.radians(45)\n",
    "\n",
    "rotation_matrix = np.array ([[np.cos(theta), -np.sin(theta)],\n",
    "                            [np.sin(theta), np.cos(theta)]])\n",
    "\n",
    "\n",
    "print(rotation_matrix)\n",
    "\n",
    "print(\"--------------------------------------\")\n",
    "\n",
    "print(v)\n",
    "\n",
    "# Applying the transformation \n",
    "\n",
    "v_transforemd = np.dot(rotation_matrix, v)\n",
    "\n",
    "v_transforemd\n"
   ]
  },
  {
   "cell_type": "code",
   "execution_count": null,
   "metadata": {},
   "outputs": [],
   "source": []
  }
 ],
 "metadata": {
  "kernelspec": {
   "display_name": "python_eda",
   "language": "python",
   "name": "python3"
  },
  "language_info": {
   "codemirror_mode": {
    "name": "ipython",
    "version": 3
   },
   "file_extension": ".py",
   "mimetype": "text/x-python",
   "name": "python",
   "nbconvert_exporter": "python",
   "pygments_lexer": "ipython3",
   "version": "3.11.5"
  }
 },
 "nbformat": 4,
 "nbformat_minor": 2
}
